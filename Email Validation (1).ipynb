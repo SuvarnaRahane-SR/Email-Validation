{
 "cells": [
  {
   "cell_type": "markdown",
   "id": "ec9352fd",
   "metadata": {},
   "source": [
    "### Email Validation"
   ]
  },
  {
   "cell_type": "code",
   "execution_count": 4,
   "id": "0d33e86f",
   "metadata": {},
   "outputs": [
    {
     "name": "stdout",
     "output_type": "stream",
     "text": [
      "Enter Your Email:-rah@5\n",
      "Wrong Email 1\n"
     ]
    }
   ],
   "source": [
    "email=input(\"Enter Your Email:-\")     #g@g.in-minimum 6 character is used to create email\n",
    "k,j,d=0,0,0\n",
    "if len(email)>=6:\n",
    "    if email[0].isalpha():\n",
    "        if \"@\" in email and (email.count(\"@\")==1):\n",
    "            if (email[-4]==\".\")^(email[-3]==\".\"):     #XOR operator-Both conditions are same then o/p is zero.\n",
    "                for i in email:\n",
    "                    if i==i.isspace():\n",
    "                        k=1\n",
    "                    elif i.isalpha():\n",
    "                        if i==i.upper():\n",
    "                            j=1\n",
    "                    elif i.isdigit():\n",
    "                        continue\n",
    "                    elif i==\"_\" or i==\".\" or i==\"@\":\n",
    "                        continue\n",
    "                    else:\n",
    "                        d=1\n",
    "                if k==1 or j==1 or d==1:\n",
    "                    print(\"Wrong Email 5\")\n",
    "            else:\n",
    "                print(\"Wrong Email 4\")\n",
    "        else:\n",
    "            print(\"Wrong Email 3\")\n",
    "        \n",
    "    else:\n",
    "        print(\"Wrong Email 2\")\n",
    "else:\n",
    "    print(\"Wrong Email 1\")"
   ]
  },
  {
   "cell_type": "code",
   "execution_count": null,
   "id": "30d909ed",
   "metadata": {},
   "outputs": [],
   "source": []
  }
 ],
 "metadata": {
  "kernelspec": {
   "display_name": "Python 3 (ipykernel)",
   "language": "python",
   "name": "python3"
  },
  "language_info": {
   "codemirror_mode": {
    "name": "ipython",
    "version": 3
   },
   "file_extension": ".py",
   "mimetype": "text/x-python",
   "name": "python",
   "nbconvert_exporter": "python",
   "pygments_lexer": "ipython3",
   "version": "3.9.7"
  }
 },
 "nbformat": 4,
 "nbformat_minor": 5
}
